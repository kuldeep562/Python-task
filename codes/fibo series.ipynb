{
 "cells": [
  {
   "cell_type": "code",
   "execution_count": 35,
   "id": "df97df77-cd21-4b03-800e-a68fc551038e",
   "metadata": {},
   "outputs": [
    {
     "name": "stdin",
     "output_type": "stream",
     "text": [
      "Enter range for fibbo series 10\n"
     ]
    },
    {
     "name": "stdout",
     "output_type": "stream",
     "text": [
      "0 1\n",
      "1 2 3 5 8 13 21 34 "
     ]
    }
   ],
   "source": [
    "num = int(input(\"Enter range for fibbo series\"))\n",
    "n1, n2 = 0, 1\n",
    "if num == 1:\n",
    "    print(n1)\n",
    "else:\n",
    "\tprint(n1, n2)\n",
    "\tfor i in range(2, num):\n",
    "\t    n3 = n1 + n2\n",
    "\t    n1 = n2\n",
    "\t    n2 = n3\n",
    "\t    print(n3 , end=\" \")"
   ]
  },
  {
   "cell_type": "code",
   "execution_count": 43,
   "id": "f5c26cf1-bf39-4454-85c1-0be62a0e3047",
   "metadata": {},
   "outputs": [],
   "source": [
    "def fibo(i):\n",
    "\tif i <= 1:\n",
    "\t\treturn i\n",
    "\telse:\n",
    "\t\treturn (fibo(i - 1) + fibo(i - 2))"
   ]
  },
  {
   "cell_type": "code",
   "execution_count": 45,
   "id": "718d03ab-f697-41a0-b8be-f549d68f932e",
   "metadata": {},
   "outputs": [
    {
     "name": "stdin",
     "output_type": "stream",
     "text": [
      "Enter range for fibo :  10\n"
     ]
    },
    {
     "name": "stdout",
     "output_type": "stream",
     "text": [
      "0 1 1 2 3 5 8 13 21 34 "
     ]
    }
   ],
   "source": [
    "num= int(input(\"Enter range for fibo : \"))\n",
    "for i in range(num):\n",
    "\tprint(fibo(i), end=\" \") "
   ]
  },
  {
   "cell_type": "code",
   "execution_count": null,
   "id": "34d3de0a-6c8c-49ed-bcf5-7436648a8347",
   "metadata": {},
   "outputs": [],
   "source": []
  }
 ],
 "metadata": {
  "kernelspec": {
   "display_name": "Python 3 (ipykernel)",
   "language": "python",
   "name": "python3"
  },
  "language_info": {
   "codemirror_mode": {
    "name": "ipython",
    "version": 3
   },
   "file_extension": ".py",
   "mimetype": "text/x-python",
   "name": "python",
   "nbconvert_exporter": "python",
   "pygments_lexer": "ipython3",
   "version": "3.12.4"
  }
 },
 "nbformat": 4,
 "nbformat_minor": 5
}
