{
 "cells": [
  {
   "cell_type": "code",
   "execution_count": null,
   "id": "e4adf15f",
   "metadata": {},
   "outputs": [],
   "source": [
    "import numpy as np\n",
    "import pandas as pd \n",
    "import matplotlib.pyplot as plt\n",
    "import seaborn as sns\n",
    "from sklearn import datasets"
   ]
  },
  {
   "cell_type": "code",
   "execution_count": null,
   "id": "88b880f2",
   "metadata": {},
   "outputs": [],
   "source": [
    "\n",
    "df=datasets.load_diabetes(scaled=False)\n",
    "X=df.data\n",
    "Y=df.target\n"
   ]
  },
  {
   "cell_type": "code",
   "execution_count": null,
   "id": "d153e407",
   "metadata": {},
   "outputs": [],
   "source": [
    "\n",
    "\n",
    "data=pd.DataFrame(X,columns=df.feature_names)\n"
   ]
  },
  {
   "cell_type": "code",
   "execution_count": null,
   "id": "35e91aae",
   "metadata": {},
   "outputs": [],
   "source": [
    "\n",
    "data\n"
   ]
  },
  {
   "cell_type": "code",
   "execution_count": null,
   "id": "0eb0e6e1",
   "metadata": {},
   "outputs": [],
   "source": [
    "\n",
    "\n",
    "data.duplicated().sum()\n"
   ]
  },
  {
   "cell_type": "code",
   "execution_count": null,
   "id": "aeb1cddb",
   "metadata": {},
   "outputs": [],
   "source": [
    "\n",
    "data['Target']=Y\n",
    "data\n"
   ]
  },
  {
   "cell_type": "code",
   "execution_count": null,
   "id": "0f52443a",
   "metadata": {},
   "outputs": [],
   "source": [
    "\n",
    "plt.boxplot(data)\n",
    "plt.show()\n"
   ]
  },
  {
   "cell_type": "code",
   "execution_count": null,
   "id": "d40368e4",
   "metadata": {},
   "outputs": [],
   "source": [
    "\n",
    "plt.boxplot(data)\n",
    "plt.show()\n"
   ]
  },
  {
   "cell_type": "code",
   "execution_count": null,
   "id": "71d832ff",
   "metadata": {},
   "outputs": [],
   "source": [
    "\n",
    "plt.figure(figsize=(10,10))\n",
    "sns.pairplot(data)\n",
    "plt.show()\n"
   ]
  },
  {
   "cell_type": "code",
   "execution_count": null,
   "id": "20bb1749",
   "metadata": {},
   "outputs": [],
   "source": [
    "\n",
    "from sklearn.preprocessing import MinMaxScaler\n",
    "\n",
    "dx=MinMaxScaler()\n",
    "dx1=dx.fit_transform(data)\n",
    "data=pd.DataFrame(dx1,columns=data.columns)\n",
    "data\n"
   ]
  },
  {
   "cell_type": "code",
   "execution_count": null,
   "id": "c801a203",
   "metadata": {},
   "outputs": [],
   "source": [
    "\n",
    "y=data['Target']\n",
    "data=data.drop(['Target'],axis=1)\n"
   ]
  },
  {
   "cell_type": "code",
   "execution_count": null,
   "id": "6b7c636e",
   "metadata": {},
   "outputs": [],
   "source": [
    "\n",
    "x=data\n"
   ]
  },
  {
   "cell_type": "code",
   "execution_count": null,
   "id": "11c20ddd",
   "metadata": {},
   "outputs": [],
   "source": [
    "\n",
    "from sklearn.feature_selection import mutual_info_regression\n",
    "\n",
    "xd=mutual_info_regression(x,y,random_state=69)\n",
    "xs=pd.DataFrame(xd,data.columns)\n",
    "xs.plot(kind='barh',color='pink')\n",
    "plt.show\n"
   ]
  },
  {
   "cell_type": "code",
   "execution_count": null,
   "id": "4ff99f84",
   "metadata": {},
   "outputs": [],
   "source": [
    "\n",
    "from skfeature.function.similarity_based import fisher_score\n",
    "\n",
    "po = fisher_score.fisher_score(x.values, y.values)\n",
    "op = pd.DataFrame(xd, data.columns)\n",
    "op.plot(kind='barh', color='pink')\n",
    "plt.show\n"
   ]
  },
  {
   "cell_type": "code",
   "execution_count": null,
   "id": "ecdefa84",
   "metadata": {},
   "outputs": [],
   "source": [
    "\n",
    "data=data.drop(['sex','s1','s2'],axis=1)\n"
   ]
  },
  {
   "cell_type": "code",
   "execution_count": null,
   "id": "919017a6",
   "metadata": {},
   "outputs": [],
   "source": [
    "\n",
    "from sklearn.model_selection import train_test_split\n",
    "\n",
    "xtrain,xtest,ytrain,ytest=train_test_split(data,y,random_state=42,test_size=0.3)\n"
   ]
  },
  {
   "cell_type": "code",
   "execution_count": null,
   "id": "4cf3fc0b",
   "metadata": {},
   "outputs": [],
   "source": [
    "\n",
    "from sklearn.svm import SVR\n",
    "\n",
    "dx=SVR()\n",
    "dx.fit(xtrain,ytrain)\n"
   ]
  },
  {
   "cell_type": "code",
   "execution_count": null,
   "id": "ece83ef1",
   "metadata": {},
   "outputs": [],
   "source": [
    "\n",
    "from sklearn.metrics import r2_score\n",
    "\n",
    "ypred=dx.predict(xtest)\n",
    "r2_score(ytest,ypred)\n",
    "\n",
    "def svm_kernels(feat,target):\n",
    "    xtrain, xtest, ytrain, ytest = train_test_split(feat,target, test_size=0.3, random_state=42)\n",
    "    kernels = ['linear', 'poly', 'rbf', 'sigmoid']\n",
    "    accuracy=[]\n",
    "    for i in kernels:\n",
    "        svr=SVR(kernel=i)\n",
    "        svr.fit(xtrain,ytrain)\n",
    "        y_pred=svr.predict(xtest)\n",
    "        acc=r2_score(ytest,y_pred)\n",
    "        accuracy.append(acc)\n",
    "        \n",
    "    return accuracy     \n",
    "accuracies=svm_kernels(data,y)   \n",
    "print(accurac)    \n",
    "\n",
    "plt.figure(figsize=(10, 10))\n",
    "plt.bar(np.arange(len(accuracies)), accuracies)\n",
    "plt.xticks(np.arange(len(accuracies)), ['Linear', 'Poly', 'RBF', 'Sigmoid'])\n",
    "plt.xlabel('SVM Kernels')\n",
    "plt.ylabel('Accuracy')\n",
    "plt.show()"
   ]
  }
 ],
 "metadata": {
  "kernelspec": {
   "display_name": "Python 3 (ipykernel)",
   "language": "python",
   "name": "python3"
  },
  "language_info": {
   "codemirror_mode": {
    "name": "ipython",
    "version": 3
   },
   "file_extension": ".py",
   "mimetype": "text/x-python",
   "name": "python",
   "nbconvert_exporter": "python",
   "pygments_lexer": "ipython3",
   "version": "3.11.5"
  }
 },
 "nbformat": 4,
 "nbformat_minor": 5
}
