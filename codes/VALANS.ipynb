{
 "cells": [
  {
   "cell_type": "code",
   "execution_count": 35,
   "id": "5537fd1f-91b5-45bf-87fe-26b897eb6499",
   "metadata": {},
   "outputs": [],
   "source": [
    "matrix=[[ 1, 2, 3],\n",
    "        [ 4, 5, 6],\n",
    "        [ 7, 8, 9]]\n",
    "# matrix=[[ 1, 2, 3, 4],\n",
    "#         [ 5, 6, 7, 8],\n",
    "#         [ 9,10,11,12]]"
   ]
  },
  {
   "cell_type": "code",
   "execution_count": 36,
   "id": "86d6c987-c972-45f5-b678-c48e6aed4253",
   "metadata": {},
   "outputs": [],
   "source": [
    "dx=[]\n",
    "for i in range(len(matrix)):\n",
    "    if i==0:\n",
    "        dx.append(matrix[i])\n",
    "    if  0 < i < (len(matrix)-1) :\n",
    "        a=matrix[i]\n",
    "        dx.append(a[-1])\n",
    "    if i==(len(matrix)-1):\n",
    "        a=matrix[i]\n",
    "        dx.append(a[::-1])\n",
    "for i in range(len(matrix)):\n",
    "    if  0 < i < (len(matrix)-1) :\n",
    "        a=matrix[i]\n",
    "        dx.append(a[:-1:])"
   ]
  },
  {
   "cell_type": "code",
   "execution_count": 37,
   "id": "e0e145cb-c333-468f-86ab-66c283c81733",
   "metadata": {},
   "outputs": [
    {
     "data": {
      "text/plain": [
       "[1, 2, 3, 6, 9, 8, 7, 4, 5]"
      ]
     },
     "execution_count": 37,
     "metadata": {},
     "output_type": "execute_result"
    }
   ],
   "source": [
    "ad=[]\n",
    "for i in dx:\n",
    "    if type(dx)==type(i):\n",
    "        for j in i:\n",
    "            ad.append(j)\n",
    "    else:\n",
    "        ad.append(i)\n",
    "ad"
   ]
  },
  {
   "cell_type": "code",
   "execution_count": 38,
   "id": "6a56fdf4-2cbc-4cdd-b418-b40ed1736f7f",
   "metadata": {},
   "outputs": [
    {
     "data": {
      "text/plain": [
       "'[1,2,3,6,9,8,7,4,5,]'"
      ]
     },
     "execution_count": 38,
     "metadata": {},
     "output_type": "execute_result"
    }
   ],
   "source": [
    "a=\"\"\n",
    "a=a+\"[\"\n",
    "for i in ad:\n",
    "    a=a+str(i)\n",
    "    a=a+\",\"\n",
    "a=a+\"]\"\n",
    "a"
   ]
  },
  {
   "cell_type": "code",
   "execution_count": 34,
   "id": "9cd13e1c-a357-4f4b-810d-73291dcf70cb",
   "metadata": {},
   "outputs": [
    {
     "name": "stdout",
     "output_type": "stream",
     "text": [
      "[1,2,3,6,9,8,7,4,5]\n"
     ]
    }
   ],
   "source": [
    "a=a[:-2:]+a[-1]\n",
    "print(a)"
   ]
  },
  {
   "cell_type": "code",
   "execution_count": null,
   "id": "101c31fc-297e-43e7-aa70-6789481974c0",
   "metadata": {},
   "outputs": [],
   "source": []
  }
 ],
 "metadata": {
  "kernelspec": {
   "display_name": "Python 3 (ipykernel)",
   "language": "python",
   "name": "python3"
  },
  "language_info": {
   "codemirror_mode": {
    "name": "ipython",
    "version": 3
   },
   "file_extension": ".py",
   "mimetype": "text/x-python",
   "name": "python",
   "nbconvert_exporter": "python",
   "pygments_lexer": "ipython3",
   "version": "3.11.5"
  }
 },
 "nbformat": 4,
 "nbformat_minor": 5
}
