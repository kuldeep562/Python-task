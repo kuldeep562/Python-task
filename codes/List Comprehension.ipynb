{
 "cells": [
  {
   "cell_type": "code",
   "execution_count": 1,
   "id": "7b4d4e40-f56d-4db4-b0ef-ac6dbf3c71cc",
   "metadata": {},
   "outputs": [],
   "source": [
    "def prime(n):\n",
    "    return len([i for i in range(1,n) if n%i==0])==1"
   ]
  },
  {
   "cell_type": "code",
   "execution_count": 2,
   "id": "d913b0ff-327d-4523-bfa0-5fc55d642cc6",
   "metadata": {},
   "outputs": [
    {
     "data": {
      "text/plain": [
       "False"
      ]
     },
     "execution_count": 2,
     "metadata": {},
     "output_type": "execute_result"
    }
   ],
   "source": [
    "prime(4)"
   ]
  },
  {
   "cell_type": "code",
   "execution_count": 3,
   "id": "16ba820e-3a01-42a0-adf6-27b3703ec696",
   "metadata": {},
   "outputs": [],
   "source": [
    "def fact(n):\n",
    "    return n if n==1 else fact(n-1)*n"
   ]
  },
  {
   "cell_type": "code",
   "execution_count": 4,
   "id": "372ed434-b64a-4a9d-bb76-1090032bd6b6",
   "metadata": {},
   "outputs": [
    {
     "data": {
      "text/plain": [
       "120"
      ]
     },
     "execution_count": 4,
     "metadata": {},
     "output_type": "execute_result"
    }
   ],
   "source": [
    "fact(5)"
   ]
  },
  {
   "cell_type": "code",
   "execution_count": 5,
   "id": "0a3a7d4c-a0eb-444f-bb5c-38230434a6d5",
   "metadata": {},
   "outputs": [],
   "source": [
    "def strong(n: str):\n",
    "    \"\"\"Enter the number in string\"\"\"\n",
    "    return sum(fact(int(i)) for i in n)==int(n)"
   ]
  },
  {
   "cell_type": "code",
   "execution_count": 6,
   "id": "1852199f-2c8a-4446-be21-273e38c352a6",
   "metadata": {},
   "outputs": [
    {
     "data": {
      "text/plain": [
       "True"
      ]
     },
     "execution_count": 6,
     "metadata": {},
     "output_type": "execute_result"
    }
   ],
   "source": [
    "strong('145')"
   ]
  },
  {
   "cell_type": "code",
   "execution_count": 7,
   "id": "ca5da2f0-3d31-4dfd-ac96-9b5383ec1211",
   "metadata": {},
   "outputs": [],
   "source": [
    "def fibo(n):\n",
    "    lst=[1,1]\n",
    "    for i in range(n):\n",
    "        lst.append(lst[-1]+lst[-2])\n",
    "    return lst"
   ]
  },
  {
   "cell_type": "code",
   "execution_count": 8,
   "id": "9ea61944-eeb4-4e07-9d0a-991bf0acfed7",
   "metadata": {},
   "outputs": [
    {
     "data": {
      "text/plain": [
       "[1, 1, 2, 3, 5, 8, 13]"
      ]
     },
     "execution_count": 8,
     "metadata": {},
     "output_type": "execute_result"
    }
   ],
   "source": [
    "fibo(5)"
   ]
  },
  {
   "cell_type": "code",
   "execution_count": 9,
   "id": "8fb1fe6e-f8d6-49d8-83cf-b90c0d78b414",
   "metadata": {},
   "outputs": [],
   "source": [
    "def fibo(n):\n",
    "    return n if n<=1 else fibo(n-1)+fibo(n-2)"
   ]
  },
  {
   "cell_type": "code",
   "execution_count": 10,
   "id": "43ccc70f-20d5-4bdd-8f38-60a0b6d427f4",
   "metadata": {},
   "outputs": [
    {
     "data": {
      "text/plain": [
       "5"
      ]
     },
     "execution_count": 10,
     "metadata": {},
     "output_type": "execute_result"
    }
   ],
   "source": [
    "fibo(5)"
   ]
  },
  {
   "cell_type": "code",
   "execution_count": 11,
   "id": "eb19dc04-a4e8-49a0-8aea-01e05e811888",
   "metadata": {},
   "outputs": [],
   "source": [
    "def perfect(n):\n",
    "    return sum(i for i in range(1,n) if n%i==0)==n"
   ]
  },
  {
   "cell_type": "code",
   "execution_count": 12,
   "id": "b56fe966-4f70-4454-a73b-38a48476a579",
   "metadata": {},
   "outputs": [
    {
     "data": {
      "text/plain": [
       "True"
      ]
     },
     "execution_count": 12,
     "metadata": {},
     "output_type": "execute_result"
    }
   ],
   "source": [
    "perfect(6)"
   ]
  },
  {
   "cell_type": "code",
   "execution_count": 13,
   "id": "06eb5fe9-4f26-4641-b49e-a2cc915d67ac",
   "metadata": {},
   "outputs": [],
   "source": [
    "def pelindrom(n: str):\n",
    "    return n[::-1] == n"
   ]
  },
  {
   "cell_type": "code",
   "execution_count": 14,
   "id": "a398bb0f-152f-4e4e-b73e-9d897a837377",
   "metadata": {},
   "outputs": [
    {
     "data": {
      "text/plain": [
       "True"
      ]
     },
     "execution_count": 14,
     "metadata": {},
     "output_type": "execute_result"
    }
   ],
   "source": [
    "pelindrom(\"121\")"
   ]
  },
  {
   "cell_type": "code",
   "execution_count": 15,
   "id": "bc92860d-4748-4b6a-b0f7-181c648c8e3e",
   "metadata": {},
   "outputs": [],
   "source": [
    "no = [19,19,15,5,5,5,1,2]"
   ]
  },
  {
   "cell_type": "code",
   "execution_count": 16,
   "id": "322c13cf-81d0-4a41-929e-083328eb9e91",
   "metadata": {},
   "outputs": [],
   "source": [
    "def lst(no):\n",
    "    c=0\n",
    "    d=0\n",
    "    for i in no:\n",
    "        if i==19:\n",
    "            c+=1\n",
    "        if i==5:\n",
    "            d+=1\n",
    "        if c==2 and d==3:\n",
    "            return False"
   ]
  },
  {
   "cell_type": "code",
   "execution_count": 17,
   "id": "a1d63512-6dfd-46d0-ab67-796147d237ff",
   "metadata": {},
   "outputs": [
    {
     "data": {
      "text/plain": [
       "False"
      ]
     },
     "execution_count": 17,
     "metadata": {},
     "output_type": "execute_result"
    }
   ],
   "source": [
    "lst([19,19,15,5,5,5,1,2])"
   ]
  },
  {
   "cell_type": "code",
   "execution_count": 18,
   "id": "b04f6b9a-6db1-4b30-afd4-68ed35e3a67e",
   "metadata": {},
   "outputs": [],
   "source": [
    "def lst(no):\n",
    "    return True if no.count(19)==2 and no.count(5)==3 else False "
   ]
  },
  {
   "cell_type": "code",
   "execution_count": 19,
   "id": "9fc2e963-47e9-4698-a09e-fd61d1f9803c",
   "metadata": {},
   "outputs": [
    {
     "data": {
      "text/plain": [
       "False"
      ]
     },
     "execution_count": 19,
     "metadata": {},
     "output_type": "execute_result"
    }
   ],
   "source": [
    "lst([19,19,15,5,5,5,1,2,5])"
   ]
  },
  {
   "cell_type": "code",
   "execution_count": 20,
   "id": "a0f5cc86-3be9-4d5f-94c6-9e70b6572799",
   "metadata": {},
   "outputs": [],
   "source": [
    "def lsls(no):\n",
    "    return True if lst(no)==8 and no.count(no[4])>2 else False"
   ]
  },
  {
   "cell_type": "code",
   "execution_count": 21,
   "id": "524f1d10-d9d2-40fd-8266-70f163b4bfe8",
   "metadata": {},
   "outputs": [
    {
     "data": {
      "text/plain": [
       "True"
      ]
     },
     "execution_count": 21,
     "metadata": {},
     "output_type": "execute_result"
    }
   ],
   "source": [
    "lst(no)"
   ]
  },
  {
   "cell_type": "code",
   "execution_count": null,
   "id": "3d4b74dc-b37e-4c1e-8205-5269af3e0276",
   "metadata": {},
   "outputs": [],
   "source": []
  }
 ],
 "metadata": {
  "kernelspec": {
   "display_name": "Python 3 (ipykernel)",
   "language": "python",
   "name": "python3"
  },
  "language_info": {
   "codemirror_mode": {
    "name": "ipython",
    "version": 3
   },
   "file_extension": ".py",
   "mimetype": "text/x-python",
   "name": "python",
   "nbconvert_exporter": "python",
   "pygments_lexer": "ipython3",
   "version": "3.11.5"
  }
 },
 "nbformat": 4,
 "nbformat_minor": 5
}
