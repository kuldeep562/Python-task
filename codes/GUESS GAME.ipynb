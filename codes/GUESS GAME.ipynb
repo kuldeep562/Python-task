{
 "cells": [
  {
   "cell_type": "code",
   "execution_count": 9,
   "id": "2c1a7667",
   "metadata": {},
   "outputs": [
    {
     "name": "stdout",
     "output_type": "stream",
     "text": [
      "Hello guys!...Welcom to the game\n",
      "enter the range\n",
      "70\n",
      "enter gussing number : 29\n",
      "enter the greater number\n",
      "enter gussing number : 69\n",
      "enter the smaller number\n",
      "enter gussing number : 55\n",
      "enter the smaller number\n",
      "enter gussing number : 40\n",
      "well done!!!...you wins\n"
     ]
    }
   ],
   "source": [
    "# program for gusses a number btw 0-9\n",
    "import random\n",
    "print(\"Hello guys!...Welcom to the game\")\n",
    "print(\"enter the range\")\n",
    "rang=int(input())\n",
    "num = random.randint(0,rang)\n",
    "for i in range(rang):\n",
    "    dis=int(input(\"enter gussing number : \"))\n",
    "    if(num>dis):\n",
    "        print(\"enter the greater number\")\n",
    "    elif(num<dis):\n",
    "        print(\"enter the smaller number\")\n",
    "    if(num==dis):\n",
    "        print(\"well done!!!...you wins\")\n",
    "        break;"
   ]
  },
  {
   "cell_type": "code",
   "execution_count": 10,
   "id": "b16c7e4a",
   "metadata": {},
   "outputs": [
    {
     "name": "stdout",
     "output_type": "stream",
     "text": [
      "enter value for guess : 6\n",
      "guess a number : 3\n",
      "try again later\n",
      "guess a number : 2\n",
      "try again later\n",
      "guess a number : 1\n",
      "try again later\n",
      "guess a number : 6\n",
      "well guessed\n"
     ]
    }
   ],
   "source": [
    "# guess karo number\n",
    "\n",
    "guess=int(input(\"enter value for guess : \"))\n",
    "for i in range (0,100):\n",
    "    x=int(input(\"guess a number : \"))\n",
    "    if(guess == x):\n",
    "        print(\"well guessed\")\n",
    "        break\n",
    "   \n",
    "    else:\n",
    "        print(\"try again later\")"
   ]
  },
  {
   "cell_type": "code",
   "execution_count": null,
   "id": "84a8e846",
   "metadata": {},
   "outputs": [],
   "source": []
  }
 ],
 "metadata": {
  "kernelspec": {
   "display_name": "Python 3 (ipykernel)",
   "language": "python",
   "name": "python3"
  },
  "language_info": {
   "codemirror_mode": {
    "name": "ipython",
    "version": 3
   },
   "file_extension": ".py",
   "mimetype": "text/x-python",
   "name": "python",
   "nbconvert_exporter": "python",
   "pygments_lexer": "ipython3",
   "version": "3.11.5"
  }
 },
 "nbformat": 4,
 "nbformat_minor": 5
}
